{
 "cells": [
  {
   "cell_type": "markdown",
   "metadata": {},
   "source": [
    "# Advanced Evaluations"
   ]
  },
  {
   "cell_type": "markdown",
   "metadata": {},
   "source": [
    "## Setup"
   ]
  },
  {
   "cell_type": "markdown",
   "metadata": {},
   "source": [
    "To start, let's load our environment variables from our .env file. Make sure all of the keys necessary in .env.example are included!\n"
   ]
  },
  {
   "cell_type": "code",
   "execution_count": 35,
   "metadata": {},
   "outputs": [],
   "source": [
    "from multiagent import multiagent\n",
    "\n",
    "from dotenv import load_dotenv\n",
    "load_dotenv(dotenv_path=\"../.env\", override=True)\n",
    "\n",
    "from langsmith import Client # Set up LangSmith client\n",
    "client = Client()\n",
    "\n",
    "from langchain_openai import ChatOpenAI\n",
    "model = ChatOpenAI(model=\"o3-mini\")"
   ]
  },
  {
   "cell_type": "markdown",
   "metadata": {},
   "source": [
    "## Evaluations\n",
    "\n",
    "\n",
    "To recap, Evaluations are made up of three components:\n",
    "\n",
    "1. A **dataset test** inputs and expected outputs.\n",
    "2. An **application or target function** that defines what you are evaluating, taking in inputs and returning the application output\n",
    "3. **Evaluators** that score your target function's outputs.\n",
    "\n",
    "![Evaluation](../images/evals-conceptual.png) \n",
    "\n",
    "There are many ways you can evaluate an agent. Today, we will cover the three common types of agent evaluations:\n",
    "\n",
    "1. **Final Response**: Evaluate the agent's final response.\n",
    "2. **Single step**: Evaluate any agent step in isolation (e.g., whether it selects the appropriate tool).\n",
    "3. **Trajectory**: Evaluate whether the agent took the expected path (e.g., of tool calls) to arrive at the final answer."
   ]
  },
  {
   "cell_type": "markdown",
   "metadata": {},
   "source": [
    "### Evaluating The Final Response\n",
    "\n",
    "One way to evaluate an agent is to assess its overall performance on a task. This basically involves treating the agent as a black box and simply evaluating whether or not it gets the job done.\n",
    "- Input: User input \n",
    "- Output: The agent's final response.\n",
    "\n",
    "\n",
    "![final-response](../images/final-response.png) "
   ]
  },
  {
   "cell_type": "markdown",
   "metadata": {},
   "source": [
    "#### 1. Create a Dataset"
   ]
  },
  {
   "cell_type": "code",
   "execution_count": 36,
   "metadata": {},
   "outputs": [],
   "source": [
    "from langsmith import Client\n",
    "\n",
    "client = Client()\n",
    "\n",
    "# Create a dataset\n",
    "examples = [\n",
    "    {\n",
    "        \"question\": \"My name is Aaron Mitchell. My customer ID is 32. I am trying to find the invoice number for my most recent song purchase. Could you help me with it?\",\n",
    "        \"response\": \"The Invoice ID of your most recent purchase was 342.\",\n",
    "    },\n",
    "    {\n",
    "        \"question\": \"I'd like a refund.\",\n",
    "        \"response\": \"I need additional information to help you with the refund. Could you please provide your customer identifier so that we can fetch your purchase history?\",\n",
    "    },\n",
    "    {\n",
    "        \"question\": \"Who recorded Wish You Were Here again?\",\n",
    "        \"response\": \"Wish You Were Here is an album by Pink Floyd\",\n",
    "    },\n",
    "    { \n",
    "        \"question\": \"What albums do you have by Coldplay?\",\n",
    "        \"response\": \"There are no Coldplay albums available in our catalog at the moment.\",\n",
    "    },\n",
    "]\n",
    "\n",
    "dataset_name = \"Evals: Final Response\"\n",
    "\n",
    "if not client.has_dataset(dataset_name=dataset_name):\n",
    "    dataset = client.create_dataset(dataset_name=dataset_name)\n",
    "    client.create_examples(\n",
    "        inputs=[{\"question\": ex[\"question\"]} for ex in examples],\n",
    "        outputs=[{\"response\": ex[\"response\"]} for ex in examples],\n",
    "        dataset_id=dataset.id\n",
    "    )"
   ]
  },
  {
   "cell_type": "markdown",
   "metadata": {},
   "source": [
    "#### 2. Define Application Logic to be Evaluated "
   ]
  },
  {
   "cell_type": "markdown",
   "metadata": {},
   "source": [
    "Now, let's define how to run our graph. Note that here we must continue past the interrupt() by supplying a Command(resume=\"\") to the graph."
   ]
  },
  {
   "cell_type": "code",
   "execution_count": 37,
   "metadata": {},
   "outputs": [],
   "source": [
    "import uuid\n",
    "from langgraph.types import Command\n",
    "\n",
    "graph = multiagent\n",
    "\n",
    "async def run_graph(inputs: dict):\n",
    "    \"\"\"Run graph and track the final response.\"\"\"\n",
    "    # Creating configuration \n",
    "    thread_id = uuid.uuid4()\n",
    "    configuration = {\"thread_id\": thread_id, \"user_id\" : \"10\"}\n",
    "\n",
    "    # Invoke graph until interrupt \n",
    "    result = await graph.ainvoke({\"messages\": [\n",
    "        { \"role\": \"user\", \"content\": inputs['question']}]}, config = configuration)\n",
    "    # Proceed from human-in-the-loop \n",
    "    result = await graph.ainvoke(Command(resume=\"My customer ID is 10\"), config={\"thread_id\": thread_id, \"user_id\" : \"10\"})\n",
    "    \n",
    "    return {\"response\": result['messages'][-1].content}"
   ]
  },
  {
   "cell_type": "markdown",
   "metadata": {},
   "source": [
    "#### 3. Define the Evaluator"
   ]
  },
  {
   "cell_type": "markdown",
   "metadata": {},
   "source": [
    "We can use pre-built evaluators from the `openevals` library"
   ]
  },
  {
   "cell_type": "code",
   "execution_count": 38,
   "metadata": {},
   "outputs": [
    {
     "name": "stdout",
     "output_type": "stream",
     "text": [
      "You are an expert data labeler evaluating model outputs for correctness. Your task is to assign a score based on the following rubric:\n",
      "\n",
      "<Rubric>\n",
      "  A correct answer:\n",
      "  - Provides accurate and complete information\n",
      "  - Contains no factual errors\n",
      "  - Addresses all parts of the question\n",
      "  - Is logically consistent\n",
      "  - Uses precise and accurate terminology\n",
      "\n",
      "  When scoring, you should penalize:\n",
      "  - Factual errors or inaccuracies\n",
      "  - Incomplete or partial answers\n",
      "  - Misleading or ambiguous statements\n",
      "  - Incorrect terminology\n",
      "  - Logical inconsistencies\n",
      "  - Missing key information\n",
      "</Rubric>\n",
      "\n",
      "<Instructions>\n",
      "  - Carefully read the input and output\n",
      "  - Check for factual accuracy and completeness\n",
      "  - Focus on correctness of information rather than style or verbosity\n",
      "</Instructions>\n",
      "\n",
      "<Reminder>\n",
      "  The goal is to evaluate factual correctness and completeness of the response.\n",
      "</Reminder>\n",
      "\n",
      "<input>\n",
      "{inputs}\n",
      "</input>\n",
      "\n",
      "<output>\n",
      "{outputs}\n",
      "</output>\n",
      "\n",
      "Use the reference outputs below to help you evaluate the correctness of the response:\n",
      "\n",
      "<reference_outputs>\n",
      "{reference_outputs}\n",
      "</reference_outputs>\n",
      "\n"
     ]
    }
   ],
   "source": [
    "from openevals.llm import create_llm_as_judge\n",
    "from openevals.prompts import CORRECTNESS_PROMPT\n",
    "\n",
    "# Using Open Eval pre-built \n",
    "correctness_evaluator = create_llm_as_judge(\n",
    "    prompt=CORRECTNESS_PROMPT,\n",
    "    feedback_key=\"correctness\",\n",
    "    judge=model,\n",
    ")\n",
    "print(CORRECTNESS_PROMPT)"
   ]
  },
  {
   "cell_type": "markdown",
   "metadata": {},
   "source": [
    "We can also define our own evaluator."
   ]
  },
  {
   "cell_type": "code",
   "execution_count": 39,
   "metadata": {},
   "outputs": [],
   "source": [
    "from typing_extensions import TypedDict\n",
    "from typing import Annotated, List\n",
    "\n",
    "# Custom definition of LLM-as-judge instructions\n",
    "grader_instructions = \"\"\"You are a teacher grading a quiz.\n",
    "\n",
    "You will be given a QUESTION, the GROUND TRUTH (correct) RESPONSE, and the STUDENT RESPONSE.\n",
    "\n",
    "Here is the grade criteria to follow:\n",
    "(1) Grade the student responses based ONLY on their factual accuracy relative to the ground truth answer.\n",
    "(2) Ensure that the student response does not contain any conflicting statements.\n",
    "(3) It is OK if the student response contains more information than the ground truth response, as long as it is factually accurate relative to the ground truth response.\n",
    "\n",
    "Correctness:\n",
    "True means that the student's response meets all of the criteria.\n",
    "False means that the student's response does not meet all of the criteria.\n",
    "\n",
    "Explain your reasoning in a step-by-step manner to ensure your reasoning and conclusion are correct.\"\"\"\n",
    "\n",
    "# LLM-as-judge output schema\n",
    "class Grade(TypedDict):\n",
    "    \"\"\"Compare the expected and actual answers and grade the actual answer.\"\"\"\n",
    "    reasoning: Annotated[str, ..., \"Explain your reasoning for whether the actual response is correct or not.\"]\n",
    "    is_correct: Annotated[bool, ..., \"True if the student response is mostly or exactly correct, otherwise False.\"]\n",
    "\n",
    "# Judge LLM\n",
    "grader_llm = model.with_structured_output(Grade, method=\"json_schema\", strict=True)\n",
    "\n",
    "# Evaluator function\n",
    "async def final_answer_correct(inputs: dict, outputs: dict, reference_outputs: dict) -> bool:\n",
    "    \"\"\"Evaluate if the final response is equivalent to reference response.\"\"\"\n",
    "    # Note that we assume the outputs has a 'response' dictionary. We'll need to make sure\n",
    "    # that the target function we define includes this key.\n",
    "    user = f\"\"\"QUESTION: {inputs['question']}\n",
    "    GROUND TRUTH RESPONSE: {reference_outputs['response']}\n",
    "    STUDENT RESPONSE: {outputs['response']}\"\"\"\n",
    "\n",
    "    grade = await grader_llm.ainvoke([{\"role\": \"system\", \"content\": grader_instructions}, {\"role\": \"user\", \"content\": user}])\n",
    "    return grade[\"is_correct\"]"
   ]
  },
  {
   "cell_type": "markdown",
   "metadata": {},
   "source": [
    "#### 4. Run the Evaluation"
   ]
  },
  {
   "cell_type": "code",
   "execution_count": 40,
   "metadata": {},
   "outputs": [
    {
     "name": "stdout",
     "output_type": "stream",
     "text": [
      "View the evaluation results for experiment: 'agent-e2e-4906244c' at:\n",
      "https://smith.langchain.com/o/bcad64b4-50f8-4e66-a0be-8dbaf6f6619c/datasets/6ce1f3e1-7932-4eb5-865d-1f750eceb4c6/compare?selectedSessions=3eb10d5b-15e2-4837-ba82-ca85d1426e7a\n",
      "\n",
      "\n"
     ]
    },
    {
     "name": "stderr",
     "output_type": "stream",
     "text": [
      "4it [00:24,  6.00s/it]\n"
     ]
    }
   ],
   "source": [
    "# Evaluation job and results\n",
    "experiment_results = await client.aevaluate(\n",
    "    run_graph,\n",
    "    data=dataset_name,\n",
    "    evaluators=[final_answer_correct, correctness_evaluator],\n",
    "    experiment_prefix=\"agent-e2e\",\n",
    "    num_repetitions=1,\n",
    "    max_concurrency=5,\n",
    ")"
   ]
  },
  {
   "cell_type": "markdown",
   "metadata": {},
   "source": [
    "### Evaluating a Single Step of the Agent"
   ]
  },
  {
   "cell_type": "markdown",
   "metadata": {},
   "source": [
    "Agents generally perform multiple actions. While it is useful to evaluate them end-to-end, it can also be useful to evaluate these individual actions, similar to the concept of unit testing in software development. This generally involves evaluating a single step of the agent - the LLM call where it decides what to do.\n",
    "\n",
    "- Input: Input to a single step \n",
    "- Output: Output of that step, which is usually the LLM response\n",
    "\n",
    "![single-step](../images/single-step.png) "
   ]
  },
  {
   "cell_type": "markdown",
   "metadata": {},
   "source": [
    "#### 1. Create a Dataset for this Single Step"
   ]
  },
  {
   "cell_type": "code",
   "execution_count": 41,
   "metadata": {},
   "outputs": [],
   "source": [
    "examples = [\n",
    "    {\n",
    "        \"messages\": \"My customer ID is 1. What's my most recent purchase? and What albums does the catalog have by U2?\", \n",
    "        \"route\": 'transfer_to_invoice_information_subagent'\n",
    "    },\n",
    "    {\n",
    "        \"messages\": \"What songs do you have by U2?\", \n",
    "        \"route\": 'transfer_to_music_subagent'\n",
    "    },\n",
    "    {\n",
    "        \"messages\": \"My name is Aaron Mitchell. My number associated with my account is +1 (204) 452-6452. I am trying to find the invoice number for my most recent song purchase. Could you help me with it?\", \n",
    "        \"route\": 'transfer_to_invoice_information_subagent'\n",
    "    },\n",
    "    {\n",
    "        \"messages\": \"Who recorded Wish You Were Here again? What other albums by them do you have?\", \n",
    "        \"route\": 'transfer_to_music_subagent'\n",
    "    }\n",
    "]\n",
    "\n",
    "\n",
    "dataset_name = \"Evals: Single-Step\"\n",
    "if not client.has_dataset(dataset_name=dataset_name):\n",
    "    dataset = client.create_dataset(dataset_name=dataset_name)\n",
    "    client.create_examples(\n",
    "        inputs = [{\"messages\": ex[\"messages\"]} for ex in examples],\n",
    "        outputs = [{\"route\": ex[\"route\"]} for ex in examples],\n",
    "        dataset_id=dataset.id\n",
    "    )"
   ]
  },
  {
   "cell_type": "markdown",
   "metadata": {},
   "source": [
    "#### 2. Define the Application Logic to Evaluate "
   ]
  },
  {
   "cell_type": "markdown",
   "metadata": {},
   "source": [
    "We only need to evaluate the supervisor routing step, so let's add a breakpoint right after the supervisor step."
   ]
  },
  {
   "cell_type": "code",
   "execution_count": 42,
   "metadata": {},
   "outputs": [],
   "source": [
    "from langchain_core.messages import HumanMessage\n",
    "\n",
    "async def run_supervisor_routing(inputs: dict):\n",
    "    result = await multiagent.ainvoke(\n",
    "        {\"messages\": [HumanMessage(content=inputs['messages'])]},\n",
    "        interrupt_before=[\"music_subagent\", \"invoice_information_subagent\"],\n",
    "        config={\"thread_id\": uuid.uuid4(), \"user_id\" : \"10\"}\n",
    "    )\n",
    "    return {\"route\": result[\"messages\"][-1].name}"
   ]
  },
  {
   "cell_type": "markdown",
   "metadata": {},
   "source": [
    "#### 3. Define the Evaluator"
   ]
  },
  {
   "cell_type": "code",
   "execution_count": 43,
   "metadata": {},
   "outputs": [],
   "source": [
    "def correct(outputs: dict, reference_outputs: dict) -> bool:\n",
    "    \"\"\"Check if the agent chose the correct route.\"\"\"\n",
    "    return outputs['route'] == reference_outputs[\"route\"]"
   ]
  },
  {
   "cell_type": "markdown",
   "metadata": {},
   "source": [
    "#### 4. Run the Evaluation"
   ]
  },
  {
   "cell_type": "code",
   "execution_count": 44,
   "metadata": {},
   "outputs": [
    {
     "name": "stdout",
     "output_type": "stream",
     "text": [
      "View the evaluation results for experiment: 'agent-singlestep-12ef4bfa' at:\n",
      "https://smith.langchain.com/o/bcad64b4-50f8-4e66-a0be-8dbaf6f6619c/datasets/97e1645b-76ee-4618-8a20-d6c96c9beb61/compare?selectedSessions=1f089108-dbf3-4585-a558-6bbe50bd9095\n",
      "\n",
      "\n"
     ]
    },
    {
     "name": "stderr",
     "output_type": "stream",
     "text": [
      "4it [00:08,  2.10s/it]\n"
     ]
    }
   ],
   "source": [
    "experiment_results = await client.aevaluate(\n",
    "    run_supervisor_routing,\n",
    "    data=dataset_name,\n",
    "    evaluators=[correct],\n",
    "    experiment_prefix=\"agent-singlestep\",\n",
    "    max_concurrency=5,\n",
    ")"
   ]
  },
  {
   "cell_type": "markdown",
   "metadata": {},
   "source": [
    "### Evaluating the Trajectory of the Agent"
   ]
  },
  {
   "cell_type": "markdown",
   "metadata": {},
   "source": [
    "Evaluating an agent's trajectory involves evaluating all the steps an agent took. The evaluator here is some function over the steps taken. Examples of evaluators include an exact match for each tool name in the sequence or the number of \"incorrect\" steps taken.\n",
    "\n",
    "- Input: User input to the overall agent \n",
    "- Output: A list of steps taken.\n",
    "\n",
    "![trajectory](../images/trajectory.png) "
   ]
  },
  {
   "cell_type": "markdown",
   "metadata": {},
   "source": [
    "#### 1. Create a Dataset"
   ]
  },
  {
   "cell_type": "code",
   "execution_count": 52,
   "metadata": {},
   "outputs": [],
   "source": [
    "# Create a dataset\n",
    "examples = [\n",
    "    {\n",
    "        \"question\": \"My customer ID is 1. What's my most recent purchase? and What albums does the catalog have by U2?\",\n",
    "        \"trajectory\": [\"supervisor\",\"invoice_information_subagent\",\"supervisor\",\"music_subagent\",\"supervisor\"],\n",
    "    },\n",
    "    {\n",
    "        \"question\": \"What songs do you have by U2?\",\n",
    "        \"trajectory\": [\"supervisor\",\"music_subagent\",\"supervisor\"],\n",
    "    },\n",
    "    {\n",
    "        \"question\": \"My name is Aaron Mitchell. My number associated with my account is +1 (204) 452-6452. I am trying to find the invoice number for my most recent song purchase. Could you help me with it?\",\n",
    "        \"trajectory\": [\"supervisor\",\"invoice_information_subagent\",\"supervisor\"],\n",
    "    },\n",
    "    {\n",
    "        \"question\": \"Who recorded Wish You Were Here again? What other albums by them do you have?\",\n",
    "        \"trajectory\": [\"supervisor\",\"music_subagent\",\"supervisor\"],\n",
    "    },\n",
    "]\n",
    "\n",
    "dataset_name = \"Evals: Trajectory\"\n",
    "\n",
    "if not client.has_dataset(dataset_name=dataset_name):\n",
    "    dataset = client.create_dataset(dataset_name=dataset_name)\n",
    "    client.create_examples(\n",
    "        inputs=[{\"question\": ex[\"question\"]} for ex in examples],\n",
    "        outputs=[{\"trajectory\": ex[\"trajectory\"]} for ex in examples],\n",
    "        dataset_id=dataset.id\n",
    "    )"
   ]
  },
  {
   "cell_type": "markdown",
   "metadata": {},
   "source": [
    "#### 2. Define the Application Logic to Evaluate "
   ]
  },
  {
   "cell_type": "code",
   "execution_count": 53,
   "metadata": {},
   "outputs": [],
   "source": [
    "graph = multiagent\n",
    "\n",
    "async def run_graph(inputs: dict) -> dict:\n",
    "    \"\"\"Run graph and track the trajectory it takes along with the final response.\"\"\"\n",
    "    trajectory = []\n",
    "    thread_id = uuid.uuid4()\n",
    "    configuration = {\"thread_id\": thread_id, \"user_id\" : \"10\"}\n",
    "\n",
    "    # Run until interrupt \n",
    "    async for chunk in graph.astream({\"messages\": [\n",
    "            {\n",
    "                \"role\": \"user\",\n",
    "                \"content\": inputs['question'],\n",
    "            }\n",
    "        ]}, config = configuration, stream_mode=\"debug\"):\n",
    "        if chunk['type'] == 'task':\n",
    "            trajectory.append(chunk['payload']['name'])\n",
    "\n",
    "    # Resume from interrupt\n",
    "    async for chunk in graph.astream(Command(resume=\"\"), config = configuration, stream_mode=\"debug\"):\n",
    "        if chunk['type'] == 'task':\n",
    "            trajectory.append(chunk['payload']['name'])\n",
    "    return {\"trajectory\": trajectory}"
   ]
  },
  {
   "cell_type": "markdown",
   "metadata": {},
   "source": [
    "#### 3. Define the Evaluator"
   ]
  },
  {
   "cell_type": "code",
   "execution_count": 54,
   "metadata": {},
   "outputs": [],
   "source": [
    "def evaluate_exact_match(outputs: dict, reference_outputs: dict):\n",
    "    \"\"\"Evaluate whether the trajectory exactly matches the expected output\"\"\"\n",
    "    return {\n",
    "        \"key\": \"exact_match\", \n",
    "        \"score\": outputs[\"trajectory\"] == reference_outputs[\"trajectory\"]\n",
    "    }\n",
    "\n",
    "def evaluate_extra_steps(outputs: dict, reference_outputs: dict) -> dict:\n",
    "    \"\"\"Evaluate the number of unmatched steps in the agent's output.\"\"\"\n",
    "    i = j = 0\n",
    "    unmatched_steps = 0\n",
    "\n",
    "    while i < len(reference_outputs['trajectory']) and j < len(outputs['trajectory']):\n",
    "        if reference_outputs['trajectory'][i] == outputs['trajectory'][j]:\n",
    "            i += 1  # Match found, move to the next step in reference trajectory\n",
    "        else:\n",
    "            unmatched_steps += 1  # Step is not part of the reference trajectory\n",
    "        j += 1  # Always move to the next step in outputs trajectory\n",
    "\n",
    "    # Count remaining unmatched steps in outputs beyond the comparison loop\n",
    "    unmatched_steps += len(outputs['trajectory']) - j\n",
    "\n",
    "    return {\n",
    "        \"key\": \"unmatched_steps\",\n",
    "        \"score\": unmatched_steps,\n",
    "    }"
   ]
  },
  {
   "cell_type": "markdown",
   "metadata": {},
   "source": [
    "#### 4. Run the Evaluation"
   ]
  },
  {
   "cell_type": "code",
   "execution_count": 55,
   "metadata": {},
   "outputs": [
    {
     "name": "stdout",
     "output_type": "stream",
     "text": [
      "View the evaluation results for experiment: 'agent-trajectory-b9aac17c' at:\n",
      "https://smith.langchain.com/o/bcad64b4-50f8-4e66-a0be-8dbaf6f6619c/datasets/3661e21d-1328-41b9-964a-d1e5b54c184c/compare?selectedSessions=6c3cb817-e63f-468d-9b84-644ad46c9516\n",
      "\n",
      "\n"
     ]
    },
    {
     "name": "stderr",
     "output_type": "stream",
     "text": [
      "4it [00:36,  9.07s/it]\n"
     ]
    }
   ],
   "source": [
    "experiment_results = await client.aevaluate(\n",
    "    run_graph,\n",
    "    data=dataset_name,\n",
    "    evaluators=[evaluate_extra_steps, evaluate_exact_match],\n",
    "    experiment_prefix=\"agent-trajectory\",\n",
    "    num_repetitions=1,\n",
    "    max_concurrency=4,\n",
    ")"
   ]
  },
  {
   "cell_type": "code",
   "execution_count": null,
   "metadata": {},
   "outputs": [],
   "source": []
  }
 ],
 "metadata": {
  "kernelspec": {
   "display_name": "Python 3 (ipykernel)",
   "language": "python",
   "name": "python3"
  },
  "language_info": {
   "codemirror_mode": {
    "name": "ipython",
    "version": 3
   },
   "file_extension": ".py",
   "mimetype": "text/x-python",
   "name": "python",
   "nbconvert_exporter": "python",
   "pygments_lexer": "ipython3",
   "version": "3.12.0"
  }
 },
 "nbformat": 4,
 "nbformat_minor": 4
}
