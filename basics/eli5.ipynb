{
 "cells": [
  {
   "cell_type": "markdown",
   "metadata": {},
   "source": [
    "# LLM Pipeline"
   ]
  },
  {
   "cell_type": "markdown",
   "metadata": {},
   "source": [
    "![Architecture](../images/architecture.png)\n",
    "\n",
    "In this example, we'll put together a complete, end to end flow for evaluating a simple AI Agent. We'll be utilizing the Explain Like I'm 5 (ELI5) Chatbot defined in ```eli5.py```.\n",
    "\n",
    "Let's define an simple agent development flow:\n",
    "1. User feedback is provided in your app for all AI interactions This feedback is sent to your team to repro and debug. \n",
    "    * For our demo, we'll have feedback be surfaced not just in LangSmith, but sent to a Slack channel.\n",
    "2. You replay the LLM call with varying inputs, prompts, or models to experiment and optimize the AI interaction.\n",
    "3. You codify your learnings from the user feedback into an evaluation with an LLM-as-a-judge evaluator.\n",
    "    * This allows you to easily check for regressions in the future for this particular type of feedback..\n",
    "4. Evaluations are run after each change to your AI Agent, and results are reported to your team.\n",
    "    * For our demo, we'll again use Slack to surface eval results.\n",
    "\n",
    "We'll create each step in this exercise!"
   ]
  },
  {
   "cell_type": "markdown",
   "metadata": {},
   "source": [
    "## Setup"
   ]
  },
  {
   "cell_type": "markdown",
   "metadata": {},
   "source": [
    "Let's start by loading our environment variables from our .env file. "
   ]
  },
  {
   "cell_type": "code",
   "execution_count": 1,
   "metadata": {},
   "outputs": [
    {
     "data": {
      "text/plain": [
       "True"
      ]
     },
     "execution_count": 1,
     "metadata": {},
     "output_type": "execute_result"
    }
   ],
   "source": [
    "from dotenv import load_dotenv\n",
    "import os\n",
    "load_dotenv(dotenv_path=\"../.env\", override=True)\n",
    "# Loads the following env variables\n",
    "# LANGSMITH_TRACING=true\n",
    "# LANGSMITH_ENDPOINT=\"https://api.smith.langchain.com\"\n",
    "# LANGSMITH_PROJECT=\"eli5\"\n",
    "# LANGSMITH_API_KEY=\"<redacted>\"\n",
    "# OPENAI_API_KEY=\"<redacted>\"\n",
    "# TAVILY_API_KEY=\"<redacted>\"\n",
    "\n",
    "# SLACK_TOKEN=\"<redacted>\"\n",
    "# SLACK_CHANNEL=\"<redacted>\""
   ]
  },
  {
   "cell_type": "markdown",
   "metadata": {},
   "source": [
    "First, we'll set up our LangSmith client to use the SDK"
   ]
  },
  {
   "cell_type": "code",
   "execution_count": 2,
   "metadata": {},
   "outputs": [],
   "source": [
    "import os\n",
    "from langsmith import Client\n",
    "\n",
    "client = Client()\n",
    "\n",
    "ls_project = os.getenv(\"LANGSMITH_PROJECT\")"
   ]
  },
  {
   "cell_type": "markdown",
   "metadata": {},
   "source": [
    "We'll also set up a Slack client to send messages programmatically to Slack."
   ]
  },
  {
   "cell_type": "code",
   "execution_count": 3,
   "metadata": {},
   "outputs": [],
   "source": [
    "import os\n",
    "from slack_sdk import WebClient\n",
    "\n",
    "slack_token = os.getenv(\"SLACK_TOKEN\")\n",
    "channel_id = os.getenv(\"SLACK_CHANNEL\")\n",
    "\n",
    "slack_client = WebClient(token=slack_token)"
   ]
  },
  {
   "cell_type": "markdown",
   "metadata": {},
   "source": [
    "## Step 1: Gathering Feedback"
   ]
  },
  {
   "cell_type": "markdown",
   "metadata": {},
   "source": [
    "We'll create a function that can be called by the application containing your AI agent. You'll call this function when a user provides feedback to the ELI5 agent."
   ]
  },
  {
   "cell_type": "code",
   "execution_count": 4,
   "metadata": {},
   "outputs": [],
   "source": [
    "def record_user_feedback(trace_id: str, feedback: dict):\n",
    "    runs = list(client.list_runs(run_ids=[trace_id]))\n",
    "    run = runs[0] if runs else None\n",
    "    if run:\n",
    "        client.create_feedback(\n",
    "            key=\"user_rating\",           # a feedback key/tag name\n",
    "            score=feedback[\"rating\"],    # a numeric score (can be 1 if just a comment)\n",
    "            trace_id=trace_id,           # the trace ID to attach feedback to\n",
    "            comment=feedback[\"comment\"]  # the user comment string\n",
    "        )\n",
    "        run_url = client.get_run_url(run=run, project_name=ls_project)\n",
    "        slack_client.chat_postMessage(\n",
    "            channel=channel_id,\n",
    "            text=f\"Feedback received for trace {trace_id}: {feedback['comment']} \\n View trace here: {run_url}\"\n",
    "        )"
   ]
  },
  {
   "cell_type": "markdown",
   "metadata": {},
   "source": [
    "Next, let's test the function and add some feedback. We'll create a helper printing function to print results."
   ]
  },
  {
   "cell_type": "code",
   "execution_count": 5,
   "metadata": {},
   "outputs": [],
   "source": [
    "def pretty_print(trace_id: str):\n",
    "    trace_id = \"e97f7a67-5e89-48b3-a54d-bac17411bd6e\"\n",
    "\n",
    "    runs = list(client.list_runs(run_ids=[trace_id]))\n",
    "    run = runs[0]\n",
    "    print(\"Run Input ------------------------------------\")\n",
    "    print(run.inputs[\"question\"] + \"\\n\")\n",
    "    print(\"Run Output -----------------------------------\")\n",
    "    print(run.outputs[\"output\"] + \"\\n\")\n",
    "    print(\"Run Feedback ---------------------------------\")\n",
    "    print(\"Score: \" + str(run.feedback_stats[\"user_rating\"][\"avg\"]))\n",
    "    print(\"Comments: \"+ str(run.feedback_stats[\"user_rating\"][\"comments\"]))"
   ]
  },
  {
   "cell_type": "markdown",
   "metadata": {},
   "source": [
    "Let's run the function we created."
   ]
  },
  {
   "cell_type": "code",
   "execution_count": 6,
   "metadata": {},
   "outputs": [],
   "source": [
    "trace_id = \"e97f7a67-5e89-48b3-a54d-bac17411bd6e\" # Substitute with your own trace_id\n",
    "feedback = {\"rating\": 4, \"comment\": \"Does not mention the value of LangChain being open source\"}\n",
    "record_user_feedback(trace_id, feedback)"
   ]
  },
  {
   "cell_type": "markdown",
   "metadata": {},
   "source": [
    "And print the results!"
   ]
  },
  {
   "cell_type": "code",
   "execution_count": 7,
   "metadata": {},
   "outputs": [
    {
     "name": "stdout",
     "output_type": "stream",
     "text": [
      "Run Input ------------------------------------\n",
      "Why is LangChain important?\n",
      "\n",
      "Run Output -----------------------------------\n",
      "Okay! Imagine you have a really smart robot that can talk and help you with questions, just like a super nice friend. But sometimes, it can be a bit confusing to tell the robot exactly what you want. \n",
      "\n",
      "LangChain is like a special toy tool that helps people make this robot even better at understanding and answering your questions. It helps your robot learn how to listen better and respond in a way that makes sense. \n",
      "\n",
      "So, if someone wants to create a new game or a fun chat with this robot, LangChain makes it easier for them. It’s like giving them the perfect recipe to make tasty cookies instead of just telling them to bake. This way, they can make their cool robot friend work faster and smarter! \n",
      "\n",
      "That’s why LangChain is important. It helps everyone build better talking robots that can help us in lots of fun and useful ways!\n",
      "\n",
      "Run Feedback ---------------------------------\n",
      "Score: 4.0\n",
      "Comments: ['Does not mention the value of LangChain being open source', 'Does not mention the value of LangChain being open source', 'Does not mention the value of LangChain being open source', 'Does not mention the value of LangChain being open source']\n"
     ]
    }
   ],
   "source": [
    "trace_id = \"e97f7a67-5e89-48b3-a54d-bac17411bd6e\"\n",
    "pretty_print(trace_id)"
   ]
  },
  {
   "cell_type": "markdown",
   "metadata": {},
   "source": [
    "## Step 2: Prompt Engineering with the Playground"
   ]
  },
  {
   "cell_type": "markdown",
   "metadata": {},
   "source": [
    "Next, with our feedback recorded, we can find the trace in LangSmith and bring it into the Prompt Playground to reproduce and iterate on it.\n",
    "A link to a sample trace is available here: https://smith.langchain.com/public/2c87b0b2-23f9-4b0f-819e-bdd8a3aec544/r\n"
   ]
  },
  {
   "cell_type": "markdown",
   "metadata": {},
   "source": [
    "## Step 3: Evaluating Application Performance with Experiments"
   ]
  },
  {
   "cell_type": "markdown",
   "metadata": {},
   "source": [
    "**Evaluations** are a quantitative way to measure performance of agents, which is important beacause LLMs don't always behave predictably — small changes in prompts, models, or inputs can significantly impact results.\n",
    "\n",
    "Evaluations are made up of three components:\n",
    "\n",
    "1. A **dataset test** inputs and expected outputs.\n",
    "2. An **application or target function** that defines what you are evaluating, taking in inputs and returning the application output\n",
    "3. **Evaluators** that score your target function's outputs."
   ]
  },
  {
   "cell_type": "markdown",
   "metadata": {},
   "source": [
    "### Creating a Golden Dataset"
   ]
  },
  {
   "cell_type": "markdown",
   "metadata": {},
   "source": [
    "It's a good idea to create a golden dataset of prompts we want our application to perform well on. If our application is receiving poor feedback for a given input, it'd be helpful to add that input to our golden dataset. \n",
    "\n",
    "This will allow us to test future versions of our application to make sure it gets the right answer to these problematic inputs!\n",
    "\n",
    "To do this, we do need to record what a good (or \"golden\") response from our application would've looked like. What response would've gotten feedback? We need that golden response so that we have something to measure our application's response against."
   ]
  },
  {
   "cell_type": "code",
   "execution_count": 8,
   "metadata": {},
   "outputs": [],
   "source": [
    "def add_to_golden_dataset(trace_id: str, golden_response: str, dataset_name: str):    \n",
    "    # Fetch the run (trace) by ID\n",
    "    runs = list(client.list_runs(run_ids=[trace_id]))\n",
    "    run = runs[0] if runs else None\n",
    "    \n",
    "    if run:\n",
    "        if not client.has_dataset(dataset_name=dataset_name):\n",
    "            dataset = client.create_dataset(dataset_name=dataset_name)\n",
    "        else:\n",
    "            dataset = client.read_dataset(dataset_name=dataset_name)\n",
    "\n",
    "        example = {\n",
    "            \"inputs\": run.inputs,\n",
    "            \"outputs\": {\"golden\": golden_response},\n",
    "            \"metadata\": {\"source\": \"trace\"}\n",
    "        }\n",
    "        # Add example to dataset\n",
    "        client.create_examples(dataset_id=dataset.id, examples=[example])"
   ]
  },
  {
   "cell_type": "markdown",
   "metadata": {},
   "source": [
    "We can either manually generate this golden response using Annotation Queues in LangSmith, or using techniques to generate synthetic data. \n",
    "\n",
    "One potential synthetic approach is to give an LLM the original response and feedback, and have it incorporate the feedback the user provided. Note that synthetic data should still be reviewed by humans before being added to your golden dataset.\n",
    "\n",
    "Let's add a manually created \"golden response\" for our trace."
   ]
  },
  {
   "cell_type": "code",
   "execution_count": 9,
   "metadata": {},
   "outputs": [],
   "source": [
    "trace_id = \"e97f7a67-5e89-48b3-a54d-bac17411bd6e\"\n",
    "dataset_name = \"eli5-golden-tough\"\n",
    "golden_response = \"\"\"Okay! Imagine you have a really smart robot that can talk and help you with questions, just like a super nice friend. But sometimes, it can be a bit confusing to tell the robot exactly what you want. \n",
    "\n",
    "LangChain is like a special toy tool that helps people make this robot even better at understanding and answering your questions. It helps your robot learn how to listen better and respond in a way that makes sense. \n",
    "\n",
    "So, if someone wants to create a new game or a fun chat with this robot, LangChain makes it easier for them. It’s like giving them the perfect recipe to make tasty cookies instead of just telling them to bake. This way, they can make their cool robot friend work faster and smarter! \n",
    "\n",
    "The best part is that anyone who finds a new recipe can add it to LangChain to make the tool even better! That’s why LangChain is important. It helps everyone build better talking robots that can help us in lots of fun and useful ways!\"\"\"\n",
    "\n",
    "add_to_golden_dataset(trace_id, golden_response, dataset_name)"
   ]
  },
  {
   "cell_type": "markdown",
   "metadata": {},
   "source": [
    "### Defining an Evaluator"
   ]
  },
  {
   "cell_type": "markdown",
   "metadata": {},
   "source": [
    "We'll define an LLM that will compare our application's answer to the golden response in our dataset. We'll tell it to judge based on accuracy. A sample prompt is below."
   ]
  },
  {
   "cell_type": "code",
   "execution_count": 10,
   "metadata": {},
   "outputs": [],
   "source": [
    "llm_judge_prompt = \"\"\"\n",
    "    You are an expert data labeler evaluating model outputs for accuracy. Your task is to assign a 0 or 1 based on the following rubric:\n",
    "\n",
    "    <Rubric>\n",
    "        An accurate answer:\n",
    "        - Provides accurate information\n",
    "        - Contains no factual errors\n",
    "        - Is complete and not missing any significant information\n",
    "    </Rubric>\n",
    "\n",
    "    <input>\n",
    "        {}\n",
    "    </input>\n",
    "\n",
    "    <output>\n",
    "        {}\n",
    "    </output>\n",
    "\n",
    "    Use the reference outputs below to help you evaluate the correctness of the response:\n",
    "    <reference_outputs>\n",
    "        {}\n",
    "    </reference_outputs>\n",
    "\"\"\""
   ]
  },
  {
   "cell_type": "markdown",
   "metadata": {},
   "source": [
    "Once we have a prompt, we can define an evaluator function that actually sends our application's response and the dataset example to an LLM. We've created an accuracy function that does this and returns the result to be recorded in LangSmith."
   ]
  },
  {
   "cell_type": "code",
   "execution_count": 11,
   "metadata": {},
   "outputs": [],
   "source": [
    "from pydantic import BaseModel, Field\n",
    "\n",
    "# Define a scoring schema that our LLM must adhere to\n",
    "class AccuracyScore(BaseModel):\n",
    "    \"\"\"Correctness score of the answer when compared to the reference answer.\"\"\"\n",
    "    score: int = Field(description=\"The score of the correctness of the answer, from 0 to 1\")"
   ]
  },
  {
   "cell_type": "code",
   "execution_count": 12,
   "metadata": {},
   "outputs": [],
   "source": [
    "from langchain_openai import ChatOpenAI\n",
    "from langchain_core.messages import HumanMessage\n",
    "\n",
    "\n",
    "def accuracy(inputs: dict, outputs: dict, reference_outputs: dict) -> bool:\n",
    "    prompt = llm_judge_prompt.format(inputs[\"question\"], outputs[\"output\"], reference_outputs[\"golden\"])\n",
    "    structured_llm = ChatOpenAI(model_name=\"gpt-4o\", temperature=0).with_structured_output(AccuracyScore)\n",
    "    generation = structured_llm.invoke([HumanMessage(content=prompt)])\n",
    "    return generation.score == 1\n"
   ]
  },
  {
   "cell_type": "markdown",
   "metadata": {},
   "source": [
    "### Running the Experiment"
   ]
  },
  {
   "cell_type": "markdown",
   "metadata": {},
   "source": [
    "We'll create a function that will run our application on the input format provided by our LangSmith dataest."
   ]
  },
  {
   "cell_type": "code",
   "execution_count": 13,
   "metadata": {},
   "outputs": [
    {
     "name": "stderr",
     "output_type": "stream",
     "text": [
      "/Users/robertxu/Desktop/Projects/education/eval-concepts/basics/eli5.py:13: LangChainDeprecationWarning: The class `TavilySearchResults` was deprecated in LangChain 0.3.25 and will be removed in 1.0. An updated version of the class exists in the :class:`~langchain-tavily package and should be used instead. To use it run `pip install -U :class:`~langchain-tavily` and import as `from :class:`~langchain_tavily import TavilySearch``.\n",
      "  web_search_tool = TavilySearchResults(max_results=1)\n"
     ]
    }
   ],
   "source": [
    "from eli5 import eli5\n",
    "\n",
    "def run(inputs: dict):\n",
    "    return eli5(inputs[\"question\"])"
   ]
  },
  {
   "cell_type": "markdown",
   "metadata": {},
   "source": [
    "Then we're ready to run an experiment! We've wrapped our evaluate() call in a reporting function so we can send completed experiment results to Slack"
   ]
  },
  {
   "cell_type": "code",
   "execution_count": 14,
   "metadata": {},
   "outputs": [
    {
     "name": "stderr",
     "output_type": "stream",
     "text": [
      "/Users/robertxu/Desktop/Projects/education/eval-concepts/.venv/lib/python3.13/site-packages/tqdm/auto.py:21: TqdmWarning: IProgress not found. Please update jupyter and ipywidgets. See https://ipywidgets.readthedocs.io/en/stable/user_install.html\n",
      "  from .autonotebook import tqdm as notebook_tqdm\n"
     ]
    },
    {
     "name": "stdout",
     "output_type": "stream",
     "text": [
      "View the evaluation results for experiment: 'eli5-gpt-3.5-44c911b4' at:\n",
      "https://smith.langchain.com/o/bcad64b4-50f8-4e66-a0be-8dbaf6f6619c/datasets/32cce1c0-b6fe-4be8-9f72-7784fcbf14b5/compare?selectedSessions=a34df545-d304-4329-8e2b-007edd6d5189\n",
      "\n",
      "\n"
     ]
    },
    {
     "name": "stderr",
     "output_type": "stream",
     "text": [
      "7it [00:30,  4.42s/it]\n",
      "/var/folders/jj/2fvdkyfj0856p6_6sdvv74rw0000gn/T/ipykernel_15870/3649825416.py:14: UserWarning: Function get_test_results is in beta.\n",
      "  df = client.get_test_results(project_name=results.experiment_name)\n"
     ]
    }
   ],
   "source": [
    "import time\n",
    "from langsmith import evaluate\n",
    "\n",
    "\n",
    "def eval_and_report(run_func, dataset_name, evaluators, experiment_prefix):\n",
    "    results = evaluate(\n",
    "        run_func,\n",
    "        data=dataset_name,\n",
    "        evaluators=evaluators,\n",
    "        experiment_prefix=experiment_prefix\n",
    "    )\n",
    "    results.wait()\n",
    "    time.sleep(1) # experiment results process asynchronously and return when outputs exist so feedback may still be getting uploaded\n",
    "    df = client.get_test_results(project_name=results.experiment_name)\n",
    "    avg_score = df['feedback.accuracy'].mean()\n",
    "    slack_client.chat_postMessage(\n",
    "        channel=channel_id,\n",
    "        text=f\"Experiment {results.experiment_name} results: {avg_score} accuracy.\"\n",
    "    )\n",
    "    \n",
    "eval_and_report(run, \"eli5-golden-tough\", [accuracy], \"eli5-gpt-3.5\")"
   ]
  },
  {
   "cell_type": "markdown",
   "metadata": {},
   "source": [
    "We can also programmatically view the runs associated with the experiment we just ran!"
   ]
  },
  {
   "cell_type": "code",
   "execution_count": 18,
   "metadata": {},
   "outputs": [
    {
     "name": "stdout",
     "output_type": "stream",
     "text": [
      "Run ID: ef4ccab8-d355-4b2a-a96c-0ab8d4d98cb6\n",
      "Run Name: ChatOpenAI\n",
      "Run Type: llm\n",
      "Inputs: {'messages': [{'role': 'system', 'content': 'You are a professor and expert in explaining complex topics in a way that is easy to understand. \\nYour job is to answer the provided question so that even a 5 year old can understand it. \\nYou have provided with relevant background context to answer the question.\\n\\nQuestion: Why is LangChain important? \\n\\nContext: The importance of LangChain cannot be overstated. As you’re about to learn in this ultimate guide, LangChain gives seemingly magical abilities to companies who want to integrate LLMs into their software. From autonomous Agents (hello Skynet), to the ability to retrieve & understand incredibly large volumes of data instantly.\\n\\nAnswer:'}, {'role': 'user', 'content': 'Why is LangChain important?'}], 'model': 'gpt-3.5-turbo'}\n",
      "Outputs: {'id': 'chatcmpl-BwBccDJEhKURFR9MG0ZbXv2kDXwUW', 'choices': [{'finish_reason': 'stop', 'index': 0, 'logprobs': None, 'message': {'content': \"Imagine you have a special tool called LangChain that helps companies make their software really smart. This means the software can do amazing things like understand and use a lot of information very quickly. It's like giving superpowers to the software, making it work like magic and do things on its own. This can help companies work more efficiently and solve complex tasks easily. So, LangChain is important because it makes software really smart and powerful!\", 'refusal': None, 'role': 'assistant', 'annotations': [], 'audio': None, 'function_call': None, 'tool_calls': None}}], 'created': 1753207398, 'model': 'gpt-3.5-turbo-0125', 'object': 'chat.completion', 'service_tier': 'default', 'system_fingerprint': None, 'usage_metadata': {'input_tokens': 145, 'output_tokens': 87, 'total_tokens': 232, 'input_token_details': {'audio': 0, 'cache_read': 0}, 'output_token_details': {'audio': 0, 'reasoning': 0}}}\n",
      "Trace ID: 86e6ff16-8614-4978-8741-3a00908aa88f\n",
      "Error: None\n",
      "------\n",
      "Run ID: 88967b99-fd38-411c-a4e6-2d0a00bf3e81\n",
      "Run Name: explain\n",
      "Run Type: chain\n",
      "Inputs: {'question': 'Why is LangChain important?', 'context': 'The importance of LangChain cannot be overstated. As you’re about to learn in this ultimate guide, LangChain gives seemingly magical abilities to companies who want to integrate LLMs into their software. From autonomous Agents (hello Skynet), to the ability to retrieve & understand incredibly large volumes of data instantly.'}\n",
      "Outputs: {'output': \"Imagine you have a special tool called LangChain that helps companies make their software really smart. This means the software can do amazing things like understand and use a lot of information very quickly. It's like giving superpowers to the software, making it work like magic and do things on its own. This can help companies work more efficiently and solve complex tasks easily. So, LangChain is important because it makes software really smart and powerful!\"}\n",
      "Trace ID: 86e6ff16-8614-4978-8741-3a00908aa88f\n",
      "Error: None\n",
      "------\n",
      "Run ID: 54585a03-c4d7-41fc-887d-470da0790de7\n",
      "Run Name: tavily_search_results_json\n",
      "Run Type: tool\n",
      "Inputs: {'input': \"{'query': 'Why is LangChain important?'}\"}\n",
      "Outputs: {'output': [{'title': 'What product people need to know about LangChain - Command AI', 'url': 'https://command.ai/blog/langchain-guide/', 'content': 'The importance of LangChain cannot be overstated. As you’re about to learn in this ultimate guide, LangChain gives seemingly magical abilities to companies who want to integrate LLMs into their software. From autonomous Agents (hello Skynet), to the ability to retrieve & understand incredibly large volumes of data instantly.', 'score': 0.8812988}]}\n",
      "Trace ID: 86e6ff16-8614-4978-8741-3a00908aa88f\n",
      "Error: None\n",
      "------\n",
      "Run ID: 50e3a89c-e528-4155-a04e-bfaae92781f9\n",
      "Run Name: search\n",
      "Run Type: chain\n",
      "Inputs: {'question': 'Why is LangChain important?'}\n",
      "Outputs: {'output': 'The importance of LangChain cannot be overstated. As you’re about to learn in this ultimate guide, LangChain gives seemingly magical abilities to companies who want to integrate LLMs into their software. From autonomous Agents (hello Skynet), to the ability to retrieve & understand incredibly large volumes of data instantly.'}\n",
      "Trace ID: 86e6ff16-8614-4978-8741-3a00908aa88f\n",
      "Error: None\n",
      "------\n",
      "Run ID: 61e9107a-f073-467d-aabc-e1c00f55b71d\n",
      "Run Name: eli5\n",
      "Run Type: chain\n",
      "Inputs: {'question': 'Why is LangChain important?'}\n",
      "Outputs: {'output': \"Imagine you have a special tool called LangChain that helps companies make their software really smart. This means the software can do amazing things like understand and use a lot of information very quickly. It's like giving superpowers to the software, making it work like magic and do things on its own. This can help companies work more efficiently and solve complex tasks easily. So, LangChain is important because it makes software really smart and powerful!\"}\n",
      "Trace ID: 86e6ff16-8614-4978-8741-3a00908aa88f\n",
      "Error: None\n",
      "------\n",
      "Run ID: 86e6ff16-8614-4978-8741-3a00908aa88f\n",
      "Run Name: Target\n",
      "Run Type: chain\n",
      "Inputs: {'inputs': {'question': 'Why is LangChain important?'}}\n",
      "Outputs: {'output': \"Imagine you have a special tool called LangChain that helps companies make their software really smart. This means the software can do amazing things like understand and use a lot of information very quickly. It's like giving superpowers to the software, making it work like magic and do things on its own. This can help companies work more efficiently and solve complex tasks easily. So, LangChain is important because it makes software really smart and powerful!\"}\n",
      "Trace ID: 86e6ff16-8614-4978-8741-3a00908aa88f\n",
      "Error: None\n",
      "------\n",
      "Run ID: 9213b9b1-6e6a-4848-86c1-151624ec531e\n",
      "Run Name: ChatOpenAI\n",
      "Run Type: llm\n",
      "Inputs: {'messages': [{'role': 'system', 'content': 'You are a professor and expert in explaining complex topics in a way that is easy to understand. \\nYour job is to answer the provided question so that even a 5 year old can understand it. \\nYou have provided with relevant background context to answer the question.\\n\\nQuestion: Why is LangChain important? \\n\\nContext: The importance of LangChain cannot be overstated. As you’re about to learn in this ultimate guide, LangChain gives seemingly magical abilities to companies who want to integrate LLMs into their software. From autonomous Agents (hello Skynet), to the ability to retrieve & understand incredibly large volumes of data instantly.\\n\\nAnswer:'}, {'role': 'user', 'content': 'Why is LangChain important?'}], 'model': 'gpt-3.5-turbo'}\n",
      "Outputs: {'id': 'chatcmpl-BwBcZ0G3pu0xi9QodaSxaKSjPNIYo', 'choices': [{'finish_reason': 'stop', 'index': 0, 'logprobs': None, 'message': {'content': \"Think of LangChain like a special tool that helps companies teach their computers to understand and use human language better. It's like giving superpowers to computers, so they can do things like talk to us, learn from us, and help us find information much faster. This makes companies more efficient and powerful in using advanced technology to do awesome things like making robots smarter and analyzing big amounts of data quickly.\", 'refusal': None, 'role': 'assistant', 'annotations': [], 'audio': None, 'function_call': None, 'tool_calls': None}}], 'created': 1753207395, 'model': 'gpt-3.5-turbo-0125', 'object': 'chat.completion', 'service_tier': 'default', 'system_fingerprint': None, 'usage_metadata': {'input_tokens': 145, 'output_tokens': 80, 'total_tokens': 225, 'input_token_details': {'audio': 0, 'cache_read': 0}, 'output_token_details': {'audio': 0, 'reasoning': 0}}}\n",
      "Trace ID: 2d335c92-9a9d-494a-ba19-df7e7385f88b\n",
      "Error: None\n",
      "------\n",
      "Run ID: 7eff8f71-518c-4afc-9deb-2e515c6eba3f\n",
      "Run Name: explain\n",
      "Run Type: chain\n",
      "Inputs: {'question': 'Why is LangChain important?', 'context': 'The importance of LangChain cannot be overstated. As you’re about to learn in this ultimate guide, LangChain gives seemingly magical abilities to companies who want to integrate LLMs into their software. From autonomous Agents (hello Skynet), to the ability to retrieve & understand incredibly large volumes of data instantly.'}\n",
      "Outputs: {'output': \"Think of LangChain like a special tool that helps companies teach their computers to understand and use human language better. It's like giving superpowers to computers, so they can do things like talk to us, learn from us, and help us find information much faster. This makes companies more efficient and powerful in using advanced technology to do awesome things like making robots smarter and analyzing big amounts of data quickly.\"}\n",
      "Trace ID: 2d335c92-9a9d-494a-ba19-df7e7385f88b\n",
      "Error: None\n",
      "------\n",
      "Run ID: 1ac580f7-1435-445a-a15d-f0f32a1ad75a\n",
      "Run Name: tavily_search_results_json\n",
      "Run Type: tool\n",
      "Inputs: {'input': \"{'query': 'Why is LangChain important?'}\"}\n",
      "Outputs: {'output': [{'title': 'What product people need to know about LangChain - Command AI', 'url': 'https://command.ai/blog/langchain-guide/', 'content': 'The importance of LangChain cannot be overstated. As you’re about to learn in this ultimate guide, LangChain gives seemingly magical abilities to companies who want to integrate LLMs into their software. From autonomous Agents (hello Skynet), to the ability to retrieve & understand incredibly large volumes of data instantly.', 'score': 0.8812988}]}\n",
      "Trace ID: 2d335c92-9a9d-494a-ba19-df7e7385f88b\n",
      "Error: None\n",
      "------\n",
      "Run ID: bfcf9b94-2f27-4043-96c3-152627d5a4e7\n",
      "Run Name: search\n",
      "Run Type: chain\n",
      "Inputs: {'question': 'Why is LangChain important?'}\n",
      "Outputs: {'output': 'The importance of LangChain cannot be overstated. As you’re about to learn in this ultimate guide, LangChain gives seemingly magical abilities to companies who want to integrate LLMs into their software. From autonomous Agents (hello Skynet), to the ability to retrieve & understand incredibly large volumes of data instantly.'}\n",
      "Trace ID: 2d335c92-9a9d-494a-ba19-df7e7385f88b\n",
      "Error: None\n",
      "------\n",
      "Run ID: 31a83826-a8a9-4489-be50-c8d6d6c5df6f\n",
      "Run Name: eli5\n",
      "Run Type: chain\n",
      "Inputs: {'question': 'Why is LangChain important?'}\n",
      "Outputs: {'output': \"Think of LangChain like a special tool that helps companies teach their computers to understand and use human language better. It's like giving superpowers to computers, so they can do things like talk to us, learn from us, and help us find information much faster. This makes companies more efficient and powerful in using advanced technology to do awesome things like making robots smarter and analyzing big amounts of data quickly.\"}\n",
      "Trace ID: 2d335c92-9a9d-494a-ba19-df7e7385f88b\n",
      "Error: None\n",
      "------\n",
      "Run ID: 2d335c92-9a9d-494a-ba19-df7e7385f88b\n",
      "Run Name: Target\n",
      "Run Type: chain\n",
      "Inputs: {'inputs': {'question': 'Why is LangChain important?'}}\n",
      "Outputs: {'output': \"Think of LangChain like a special tool that helps companies teach their computers to understand and use human language better. It's like giving superpowers to computers, so they can do things like talk to us, learn from us, and help us find information much faster. This makes companies more efficient and powerful in using advanced technology to do awesome things like making robots smarter and analyzing big amounts of data quickly.\"}\n",
      "Trace ID: 2d335c92-9a9d-494a-ba19-df7e7385f88b\n",
      "Error: None\n",
      "------\n",
      "Run ID: 8d5975a8-1256-4faf-84c0-b6a1232402fd\n",
      "Run Name: ChatOpenAI\n",
      "Run Type: llm\n",
      "Inputs: {'messages': [{'role': 'system', 'content': 'You are a professor and expert in explaining complex topics in a way that is easy to understand. \\nYour job is to answer the provided question so that even a 5 year old can understand it. \\nYou have provided with relevant background context to answer the question.\\n\\nQuestion: Why is LangChain important? \\n\\nContext: The importance of LangChain cannot be overstated. As you’re about to learn in this ultimate guide, LangChain gives seemingly magical abilities to companies who want to integrate LLMs into their software. From autonomous Agents (hello Skynet), to the ability to retrieve & understand incredibly large volumes of data instantly.\\n\\nAnswer:'}, {'role': 'user', 'content': 'Why is LangChain important?'}], 'model': 'gpt-3.5-turbo'}\n",
      "Outputs: {'id': 'chatcmpl-BwBcVTGWzk9eWBUcD0m5oNc5jC3Yi', 'choices': [{'finish_reason': 'stop', 'index': 0, 'logprobs': None, 'message': {'content': \"Imagine you have a special tool that helps computers understand and use language better. That tool is like a magical key that can help companies make their computer programs really smart and able to do things on their own. It's like giving superpowers to computers to read and understand huge amounts of information quickly. That's why LangChain is important because it helps companies make their software really advanced and powerful.\", 'refusal': None, 'role': 'assistant', 'annotations': [], 'audio': None, 'function_call': None, 'tool_calls': None}}], 'created': 1753207391, 'model': 'gpt-3.5-turbo-0125', 'object': 'chat.completion', 'service_tier': 'default', 'system_fingerprint': None, 'usage_metadata': {'input_tokens': 145, 'output_tokens': 78, 'total_tokens': 223, 'input_token_details': {'audio': 0, 'cache_read': 0}, 'output_token_details': {'audio': 0, 'reasoning': 0}}}\n",
      "Trace ID: 8594a57b-7d37-41a6-a29b-ca7a0e57b134\n",
      "Error: None\n",
      "------\n",
      "Run ID: 08f23ff9-1dcf-4f20-8f04-94f66d935781\n",
      "Run Name: explain\n",
      "Run Type: chain\n",
      "Inputs: {'question': 'Why is LangChain important?', 'context': 'The importance of LangChain cannot be overstated. As you’re about to learn in this ultimate guide, LangChain gives seemingly magical abilities to companies who want to integrate LLMs into their software. From autonomous Agents (hello Skynet), to the ability to retrieve & understand incredibly large volumes of data instantly.'}\n",
      "Outputs: {'output': \"Imagine you have a special tool that helps computers understand and use language better. That tool is like a magical key that can help companies make their computer programs really smart and able to do things on their own. It's like giving superpowers to computers to read and understand huge amounts of information quickly. That's why LangChain is important because it helps companies make their software really advanced and powerful.\"}\n",
      "Trace ID: 8594a57b-7d37-41a6-a29b-ca7a0e57b134\n",
      "Error: None\n",
      "------\n",
      "Run ID: 381ce3eb-634d-4228-999d-40351da13184\n",
      "Run Name: tavily_search_results_json\n",
      "Run Type: tool\n",
      "Inputs: {'input': \"{'query': 'Why is LangChain important?'}\"}\n",
      "Outputs: {'output': [{'title': 'What product people need to know about LangChain - Command AI', 'url': 'https://command.ai/blog/langchain-guide/', 'content': 'The importance of LangChain cannot be overstated. As you’re about to learn in this ultimate guide, LangChain gives seemingly magical abilities to companies who want to integrate LLMs into their software. From autonomous Agents (hello Skynet), to the ability to retrieve & understand incredibly large volumes of data instantly.', 'score': 0.8812988}]}\n",
      "Trace ID: 8594a57b-7d37-41a6-a29b-ca7a0e57b134\n",
      "Error: None\n",
      "------\n",
      "Run ID: 907b6807-e607-4d4c-9a37-4934ecc24ba7\n",
      "Run Name: search\n",
      "Run Type: chain\n",
      "Inputs: {'question': 'Why is LangChain important?'}\n",
      "Outputs: {'output': 'The importance of LangChain cannot be overstated. As you’re about to learn in this ultimate guide, LangChain gives seemingly magical abilities to companies who want to integrate LLMs into their software. From autonomous Agents (hello Skynet), to the ability to retrieve & understand incredibly large volumes of data instantly.'}\n",
      "Trace ID: 8594a57b-7d37-41a6-a29b-ca7a0e57b134\n",
      "Error: None\n",
      "------\n",
      "Run ID: 928776c8-c161-4c49-8872-c65d999cd8a7\n",
      "Run Name: eli5\n",
      "Run Type: chain\n",
      "Inputs: {'question': 'Why is LangChain important?'}\n",
      "Outputs: {'output': \"Imagine you have a special tool that helps computers understand and use language better. That tool is like a magical key that can help companies make their computer programs really smart and able to do things on their own. It's like giving superpowers to computers to read and understand huge amounts of information quickly. That's why LangChain is important because it helps companies make their software really advanced and powerful.\"}\n",
      "Trace ID: 8594a57b-7d37-41a6-a29b-ca7a0e57b134\n",
      "Error: None\n",
      "------\n",
      "Run ID: 8594a57b-7d37-41a6-a29b-ca7a0e57b134\n",
      "Run Name: Target\n",
      "Run Type: chain\n",
      "Inputs: {'inputs': {'question': 'Why is LangChain important?'}}\n",
      "Outputs: {'output': \"Imagine you have a special tool that helps computers understand and use language better. That tool is like a magical key that can help companies make their computer programs really smart and able to do things on their own. It's like giving superpowers to computers to read and understand huge amounts of information quickly. That's why LangChain is important because it helps companies make their software really advanced and powerful.\"}\n",
      "Trace ID: 8594a57b-7d37-41a6-a29b-ca7a0e57b134\n",
      "Error: None\n",
      "------\n",
      "Run ID: 1f7a9aa0-70f5-4cb8-8772-dff9b86e2eed\n",
      "Run Name: ChatOpenAI\n",
      "Run Type: llm\n",
      "Inputs: {'messages': [{'role': 'system', 'content': 'You are a professor and expert in explaining complex topics in a way that is easy to understand. \\nYour job is to answer the provided question so that even a 5 year old can understand it. \\nYou have provided with relevant background context to answer the question.\\n\\nQuestion: Why is LangChain important? \\n\\nContext: The importance of LangChain cannot be overstated. As you’re about to learn in this ultimate guide, LangChain gives seemingly magical abilities to companies who want to integrate LLMs into their software. From autonomous Agents (hello Skynet), to the ability to retrieve & understand incredibly large volumes of data instantly.\\n\\nAnswer:'}, {'role': 'user', 'content': 'Why is LangChain important?'}], 'model': 'gpt-3.5-turbo'}\n",
      "Outputs: {'id': 'chatcmpl-BwBcS6nbIgbfihdxswFANDUfia1q2', 'choices': [{'finish_reason': 'stop', 'index': 0, 'logprobs': None, 'message': {'content': \"Imagine you have a special tool called LangChain that helps companies teach computers to understand and use human language better. It's like giving computers superpowers to talk, listen, and learn from us more easily. This is important because it allows companies to create smarter technology that can do amazing things like make decisions on its own (just like in sci-fi movies) and quickly understand vast amounts of information. LangChain is like a secret weapon that helps companies make their computer programs really smart and efficient.\", 'refusal': None, 'role': 'assistant', 'annotations': [], 'audio': None, 'function_call': None, 'tool_calls': None}}], 'created': 1753207388, 'model': 'gpt-3.5-turbo-0125', 'object': 'chat.completion', 'service_tier': 'default', 'system_fingerprint': None, 'usage_metadata': {'input_tokens': 145, 'output_tokens': 98, 'total_tokens': 243, 'input_token_details': {'audio': 0, 'cache_read': 0}, 'output_token_details': {'audio': 0, 'reasoning': 0}}}\n",
      "Trace ID: 16ff877b-fd85-4475-8b06-8ad860fd4308\n",
      "Error: None\n",
      "------\n",
      "Run ID: afac69de-0434-4b99-b2da-1b7eb010c014\n",
      "Run Name: explain\n",
      "Run Type: chain\n",
      "Inputs: {'question': 'Why is LangChain important?', 'context': 'The importance of LangChain cannot be overstated. As you’re about to learn in this ultimate guide, LangChain gives seemingly magical abilities to companies who want to integrate LLMs into their software. From autonomous Agents (hello Skynet), to the ability to retrieve & understand incredibly large volumes of data instantly.'}\n",
      "Outputs: {'output': \"Imagine you have a special tool called LangChain that helps companies teach computers to understand and use human language better. It's like giving computers superpowers to talk, listen, and learn from us more easily. This is important because it allows companies to create smarter technology that can do amazing things like make decisions on its own (just like in sci-fi movies) and quickly understand vast amounts of information. LangChain is like a secret weapon that helps companies make their computer programs really smart and efficient.\"}\n",
      "Trace ID: 16ff877b-fd85-4475-8b06-8ad860fd4308\n",
      "Error: None\n",
      "------\n",
      "Run ID: 6be6bc02-4871-446c-b83a-c70d5b703af5\n",
      "Run Name: tavily_search_results_json\n",
      "Run Type: tool\n",
      "Inputs: {'input': \"{'query': 'Why is LangChain important?'}\"}\n",
      "Outputs: {'output': [{'title': 'What product people need to know about LangChain - Command AI', 'url': 'https://command.ai/blog/langchain-guide/', 'content': 'The importance of LangChain cannot be overstated. As you’re about to learn in this ultimate guide, LangChain gives seemingly magical abilities to companies who want to integrate LLMs into their software. From autonomous Agents (hello Skynet), to the ability to retrieve & understand incredibly large volumes of data instantly.', 'score': 0.8812988}]}\n",
      "Trace ID: 16ff877b-fd85-4475-8b06-8ad860fd4308\n",
      "Error: None\n",
      "------\n",
      "Run ID: 118c7853-c92e-4e30-8a5e-0c6cb6d6ba00\n",
      "Run Name: search\n",
      "Run Type: chain\n",
      "Inputs: {'question': 'Why is LangChain important?'}\n",
      "Outputs: {'output': 'The importance of LangChain cannot be overstated. As you’re about to learn in this ultimate guide, LangChain gives seemingly magical abilities to companies who want to integrate LLMs into their software. From autonomous Agents (hello Skynet), to the ability to retrieve & understand incredibly large volumes of data instantly.'}\n",
      "Trace ID: 16ff877b-fd85-4475-8b06-8ad860fd4308\n",
      "Error: None\n",
      "------\n",
      "Run ID: 9ae3ab49-1fa6-49de-b84d-0c9f47b20d5e\n",
      "Run Name: eli5\n",
      "Run Type: chain\n",
      "Inputs: {'question': 'Why is LangChain important?'}\n",
      "Outputs: {'output': \"Imagine you have a special tool called LangChain that helps companies teach computers to understand and use human language better. It's like giving computers superpowers to talk, listen, and learn from us more easily. This is important because it allows companies to create smarter technology that can do amazing things like make decisions on its own (just like in sci-fi movies) and quickly understand vast amounts of information. LangChain is like a secret weapon that helps companies make their computer programs really smart and efficient.\"}\n",
      "Trace ID: 16ff877b-fd85-4475-8b06-8ad860fd4308\n",
      "Error: None\n",
      "------\n",
      "Run ID: 16ff877b-fd85-4475-8b06-8ad860fd4308\n",
      "Run Name: Target\n",
      "Run Type: chain\n",
      "Inputs: {'inputs': {'question': 'Why is LangChain important?'}}\n",
      "Outputs: {'output': \"Imagine you have a special tool called LangChain that helps companies teach computers to understand and use human language better. It's like giving computers superpowers to talk, listen, and learn from us more easily. This is important because it allows companies to create smarter technology that can do amazing things like make decisions on its own (just like in sci-fi movies) and quickly understand vast amounts of information. LangChain is like a secret weapon that helps companies make their computer programs really smart and efficient.\"}\n",
      "Trace ID: 16ff877b-fd85-4475-8b06-8ad860fd4308\n",
      "Error: None\n",
      "------\n",
      "Run ID: eea41628-9d2c-4553-9e2b-8b88d4671235\n",
      "Run Name: ChatOpenAI\n",
      "Run Type: llm\n",
      "Inputs: {'messages': [{'role': 'system', 'content': 'You are a professor and expert in explaining complex topics in a way that is easy to understand. \\nYour job is to answer the provided question so that even a 5 year old can understand it. \\nYou have provided with relevant background context to answer the question.\\n\\nQuestion: Why is LangChain important? \\n\\nContext: The importance of LangChain cannot be overstated. As you’re about to learn in this ultimate guide, LangChain gives seemingly magical abilities to companies who want to integrate LLMs into their software. From autonomous Agents (hello Skynet), to the ability to retrieve & understand incredibly large volumes of data instantly.\\n\\nAnswer:'}, {'role': 'user', 'content': 'Why is LangChain important?'}], 'model': 'gpt-3.5-turbo'}\n",
      "Outputs: {'id': 'chatcmpl-BwBcPjDVJVKsPAlc5ZjusEEKSRPqy', 'choices': [{'finish_reason': 'stop', 'index': 0, 'logprobs': None, 'message': {'content': 'Imagine you have a special tool called LangChain that helps computers understand and use human language really well. This tool is like a powerful magic that allows companies to make their computer programs really smart and capable. With LangChain, companies can create awesome things like robots that can make decisions on their own (just like in movies!), and they can quickly learn and understand lots and lots of information all at once. So, LangChain is important because it helps companies do amazing things with their computer programs and make them super smart!', 'refusal': None, 'role': 'assistant', 'annotations': [], 'audio': None, 'function_call': None, 'tool_calls': None}}], 'created': 1753207385, 'model': 'gpt-3.5-turbo-0125', 'object': 'chat.completion', 'service_tier': 'default', 'system_fingerprint': None, 'usage_metadata': {'input_tokens': 145, 'output_tokens': 103, 'total_tokens': 248, 'input_token_details': {'audio': 0, 'cache_read': 0}, 'output_token_details': {'audio': 0, 'reasoning': 0}}}\n",
      "Trace ID: 7d202a5f-dbf1-4851-962c-1b5e1c697b03\n",
      "Error: None\n",
      "------\n",
      "Run ID: cad3c55d-e30d-4c8a-98e4-08e31f35ffd7\n",
      "Run Name: explain\n",
      "Run Type: chain\n",
      "Inputs: {'question': 'Why is LangChain important?', 'context': 'The importance of LangChain cannot be overstated. As you’re about to learn in this ultimate guide, LangChain gives seemingly magical abilities to companies who want to integrate LLMs into their software. From autonomous Agents (hello Skynet), to the ability to retrieve & understand incredibly large volumes of data instantly.'}\n",
      "Outputs: {'output': 'Imagine you have a special tool called LangChain that helps computers understand and use human language really well. This tool is like a powerful magic that allows companies to make their computer programs really smart and capable. With LangChain, companies can create awesome things like robots that can make decisions on their own (just like in movies!), and they can quickly learn and understand lots and lots of information all at once. So, LangChain is important because it helps companies do amazing things with their computer programs and make them super smart!'}\n",
      "Trace ID: 7d202a5f-dbf1-4851-962c-1b5e1c697b03\n",
      "Error: None\n",
      "------\n",
      "Run ID: aa7659dc-e06a-41a1-8f7a-539d007b6db2\n",
      "Run Name: tavily_search_results_json\n",
      "Run Type: tool\n",
      "Inputs: {'input': \"{'query': 'Why is LangChain important?'}\"}\n",
      "Outputs: {'output': [{'title': 'What product people need to know about LangChain - Command AI', 'url': 'https://command.ai/blog/langchain-guide/', 'content': 'The importance of LangChain cannot be overstated. As you’re about to learn in this ultimate guide, LangChain gives seemingly magical abilities to companies who want to integrate LLMs into their software. From autonomous Agents (hello Skynet), to the ability to retrieve & understand incredibly large volumes of data instantly.', 'score': 0.8812988}]}\n",
      "Trace ID: 7d202a5f-dbf1-4851-962c-1b5e1c697b03\n",
      "Error: None\n",
      "------\n",
      "Run ID: cb8443d7-03ef-4260-add0-560e3ca56897\n",
      "Run Name: search\n",
      "Run Type: chain\n",
      "Inputs: {'question': 'Why is LangChain important?'}\n",
      "Outputs: {'output': 'The importance of LangChain cannot be overstated. As you’re about to learn in this ultimate guide, LangChain gives seemingly magical abilities to companies who want to integrate LLMs into their software. From autonomous Agents (hello Skynet), to the ability to retrieve & understand incredibly large volumes of data instantly.'}\n",
      "Trace ID: 7d202a5f-dbf1-4851-962c-1b5e1c697b03\n",
      "Error: None\n",
      "------\n",
      "Run ID: f94f3a98-06bc-476c-9ed9-2577a812e1d1\n",
      "Run Name: eli5\n",
      "Run Type: chain\n",
      "Inputs: {'question': 'Why is LangChain important?'}\n",
      "Outputs: {'output': 'Imagine you have a special tool called LangChain that helps computers understand and use human language really well. This tool is like a powerful magic that allows companies to make their computer programs really smart and capable. With LangChain, companies can create awesome things like robots that can make decisions on their own (just like in movies!), and they can quickly learn and understand lots and lots of information all at once. So, LangChain is important because it helps companies do amazing things with their computer programs and make them super smart!'}\n",
      "Trace ID: 7d202a5f-dbf1-4851-962c-1b5e1c697b03\n",
      "Error: None\n",
      "------\n",
      "Run ID: 7d202a5f-dbf1-4851-962c-1b5e1c697b03\n",
      "Run Name: Target\n",
      "Run Type: chain\n",
      "Inputs: {'inputs': {'question': 'Why is LangChain important?'}}\n",
      "Outputs: {'output': 'Imagine you have a special tool called LangChain that helps computers understand and use human language really well. This tool is like a powerful magic that allows companies to make their computer programs really smart and capable. With LangChain, companies can create awesome things like robots that can make decisions on their own (just like in movies!), and they can quickly learn and understand lots and lots of information all at once. So, LangChain is important because it helps companies do amazing things with their computer programs and make them super smart!'}\n",
      "Trace ID: 7d202a5f-dbf1-4851-962c-1b5e1c697b03\n",
      "Error: None\n",
      "------\n",
      "Run ID: ff93c3d3-ea7b-467b-82bf-71c00a65b57a\n",
      "Run Name: ChatOpenAI\n",
      "Run Type: llm\n",
      "Inputs: {'messages': [{'role': 'system', 'content': 'You are a professor and expert in explaining complex topics in a way that is easy to understand. \\nYour job is to answer the provided question so that even a 5 year old can understand it. \\nYou have provided with relevant background context to answer the question.\\n\\nQuestion: Why is LangChain important? \\n\\nContext: The importance of LangChain cannot be overstated. As you’re about to learn in this ultimate guide, LangChain gives seemingly magical abilities to companies who want to integrate LLMs into their software. From autonomous Agents (hello Skynet), to the ability to retrieve & understand incredibly large volumes of data instantly.\\n\\nAnswer:'}, {'role': 'user', 'content': 'Why is LangChain important?'}], 'model': 'gpt-3.5-turbo'}\n",
      "Outputs: {'id': 'chatcmpl-BwBcLAPV4C0lUz3TpN24vhTSbDaRH', 'choices': [{'finish_reason': 'stop', 'index': 0, 'logprobs': None, 'message': {'content': 'LangChain is like a magic wand for companies that want to make their software smarter and understand lots of information quickly. It can help create really smart computer programs that can do things on their own, like in movies! This makes companies more efficient and able to work with huge amounts of data easily.', 'refusal': None, 'role': 'assistant', 'annotations': [], 'audio': None, 'function_call': None, 'tool_calls': None}}], 'created': 1753207381, 'model': 'gpt-3.5-turbo-0125', 'object': 'chat.completion', 'service_tier': 'default', 'system_fingerprint': None, 'usage_metadata': {'input_tokens': 145, 'output_tokens': 59, 'total_tokens': 204, 'input_token_details': {'audio': 0, 'cache_read': 0}, 'output_token_details': {'audio': 0, 'reasoning': 0}}}\n",
      "Trace ID: 94680d34-2d64-4437-9734-cedf900b39dd\n",
      "Error: None\n",
      "------\n",
      "Run ID: 9a133ee4-ea31-488b-8060-58451ca1312b\n",
      "Run Name: explain\n",
      "Run Type: chain\n",
      "Inputs: {'question': 'Why is LangChain important?', 'context': 'The importance of LangChain cannot be overstated. As you’re about to learn in this ultimate guide, LangChain gives seemingly magical abilities to companies who want to integrate LLMs into their software. From autonomous Agents (hello Skynet), to the ability to retrieve & understand incredibly large volumes of data instantly.'}\n",
      "Outputs: {'output': 'LangChain is like a magic wand for companies that want to make their software smarter and understand lots of information quickly. It can help create really smart computer programs that can do things on their own, like in movies! This makes companies more efficient and able to work with huge amounts of data easily.'}\n",
      "Trace ID: 94680d34-2d64-4437-9734-cedf900b39dd\n",
      "Error: None\n",
      "------\n",
      "Run ID: c45484f7-b76d-4bb5-96b7-481e4c13fde1\n",
      "Run Name: tavily_search_results_json\n",
      "Run Type: tool\n",
      "Inputs: {'input': \"{'query': 'Why is LangChain important?'}\"}\n",
      "Outputs: {'output': [{'title': 'What product people need to know about LangChain - Command AI', 'url': 'https://command.ai/blog/langchain-guide/', 'content': 'The importance of LangChain cannot be overstated. As you’re about to learn in this ultimate guide, LangChain gives seemingly magical abilities to companies who want to integrate LLMs into their software. From autonomous Agents (hello Skynet), to the ability to retrieve & understand incredibly large volumes of data instantly.', 'score': 0.8812988}]}\n",
      "Trace ID: 94680d34-2d64-4437-9734-cedf900b39dd\n",
      "Error: None\n",
      "------\n",
      "Run ID: 87bec33a-f5a3-46d6-8149-ef8db2c8a361\n",
      "Run Name: search\n",
      "Run Type: chain\n",
      "Inputs: {'question': 'Why is LangChain important?'}\n",
      "Outputs: {'output': 'The importance of LangChain cannot be overstated. As you’re about to learn in this ultimate guide, LangChain gives seemingly magical abilities to companies who want to integrate LLMs into their software. From autonomous Agents (hello Skynet), to the ability to retrieve & understand incredibly large volumes of data instantly.'}\n",
      "Trace ID: 94680d34-2d64-4437-9734-cedf900b39dd\n",
      "Error: None\n",
      "------\n",
      "Run ID: 4182fdaa-7628-4097-8fe3-4217bbf6948a\n",
      "Run Name: eli5\n",
      "Run Type: chain\n",
      "Inputs: {'question': 'Why is LangChain important?'}\n",
      "Outputs: {'output': 'LangChain is like a magic wand for companies that want to make their software smarter and understand lots of information quickly. It can help create really smart computer programs that can do things on their own, like in movies! This makes companies more efficient and able to work with huge amounts of data easily.'}\n",
      "Trace ID: 94680d34-2d64-4437-9734-cedf900b39dd\n",
      "Error: None\n",
      "------\n",
      "Run ID: 94680d34-2d64-4437-9734-cedf900b39dd\n",
      "Run Name: Target\n",
      "Run Type: chain\n",
      "Inputs: {'inputs': {'question': 'Why is LangChain important?'}}\n",
      "Outputs: {'output': 'LangChain is like a magic wand for companies that want to make their software smarter and understand lots of information quickly. It can help create really smart computer programs that can do things on their own, like in movies! This makes companies more efficient and able to work with huge amounts of data easily.'}\n",
      "Trace ID: 94680d34-2d64-4437-9734-cedf900b39dd\n",
      "Error: None\n",
      "------\n",
      "Run ID: abad1f81-57d9-4f0c-8555-fef735bccc20\n",
      "Run Name: ChatOpenAI\n",
      "Run Type: llm\n",
      "Inputs: {'messages': [{'role': 'system', 'content': 'You are a professor and expert in explaining complex topics in a way that is easy to understand. \\nYour job is to answer the provided question so that even a 5 year old can understand it. \\nYou have provided with relevant background context to answer the question.\\n\\nQuestion: Why is LangChain important? \\n\\nContext: The importance of LangChain cannot be overstated. As you’re about to learn in this ultimate guide, LangChain gives seemingly magical abilities to companies who want to integrate LLMs into their software. From autonomous Agents (hello Skynet), to the ability to retrieve & understand incredibly large volumes of data instantly.\\n\\nAnswer:'}, {'role': 'user', 'content': 'Why is LangChain important?'}], 'model': 'gpt-3.5-turbo'}\n",
      "Outputs: {'id': 'chatcmpl-BwBcIgqyjtp4LTDEiyVV0dMlziszb', 'choices': [{'finish_reason': 'stop', 'index': 0, 'logprobs': None, 'message': {'content': 'LangChain is like a special tool that helps companies use really smart computer programs called LLMs. It can help these companies do amazing things, like making robots that can think for themselves or quickly understand a lot of information. So, LangChain is important because it helps companies do cool and useful things with technology!', 'refusal': None, 'role': 'assistant', 'annotations': [], 'audio': None, 'function_call': None, 'tool_calls': None}}], 'created': 1753207378, 'model': 'gpt-3.5-turbo-0125', 'object': 'chat.completion', 'service_tier': 'default', 'system_fingerprint': None, 'usage_metadata': {'input_tokens': 145, 'output_tokens': 63, 'total_tokens': 208, 'input_token_details': {'audio': 0, 'cache_read': 0}, 'output_token_details': {'audio': 0, 'reasoning': 0}}}\n",
      "Trace ID: 79119a7c-4215-43fc-a747-d56a3e7d5c21\n",
      "Error: None\n",
      "------\n",
      "Run ID: 11af09b4-809d-4fbc-bbe8-4613e09b9006\n",
      "Run Name: explain\n",
      "Run Type: chain\n",
      "Inputs: {'question': 'Why is LangChain important?', 'context': 'The importance of LangChain cannot be overstated. As you’re about to learn in this ultimate guide, LangChain gives seemingly magical abilities to companies who want to integrate LLMs into their software. From autonomous Agents (hello Skynet), to the ability to retrieve & understand incredibly large volumes of data instantly.'}\n",
      "Outputs: {'output': 'LangChain is like a special tool that helps companies use really smart computer programs called LLMs. It can help these companies do amazing things, like making robots that can think for themselves or quickly understand a lot of information. So, LangChain is important because it helps companies do cool and useful things with technology!'}\n",
      "Trace ID: 79119a7c-4215-43fc-a747-d56a3e7d5c21\n",
      "Error: None\n",
      "------\n",
      "Run ID: 51b47289-2879-438e-b1c4-52201ec6abff\n",
      "Run Name: tavily_search_results_json\n",
      "Run Type: tool\n",
      "Inputs: {'input': \"{'query': 'Why is LangChain important?'}\"}\n",
      "Outputs: {'output': [{'title': 'What product people need to know about LangChain - Command AI', 'url': 'https://command.ai/blog/langchain-guide/', 'content': 'The importance of LangChain cannot be overstated. As you’re about to learn in this ultimate guide, LangChain gives seemingly magical abilities to companies who want to integrate LLMs into their software. From autonomous Agents (hello Skynet), to the ability to retrieve & understand incredibly large volumes of data instantly.', 'score': 0.8812988}]}\n",
      "Trace ID: 79119a7c-4215-43fc-a747-d56a3e7d5c21\n",
      "Error: None\n",
      "------\n",
      "Run ID: 4b70d6b0-f504-4058-951d-e8276394dd1d\n",
      "Run Name: search\n",
      "Run Type: chain\n",
      "Inputs: {'question': 'Why is LangChain important?'}\n",
      "Outputs: {'output': 'The importance of LangChain cannot be overstated. As you’re about to learn in this ultimate guide, LangChain gives seemingly magical abilities to companies who want to integrate LLMs into their software. From autonomous Agents (hello Skynet), to the ability to retrieve & understand incredibly large volumes of data instantly.'}\n",
      "Trace ID: 79119a7c-4215-43fc-a747-d56a3e7d5c21\n",
      "Error: None\n",
      "------\n",
      "Run ID: e8011c59-f6e4-4c25-a615-959d0fb132a9\n",
      "Run Name: eli5\n",
      "Run Type: chain\n",
      "Inputs: {'question': 'Why is LangChain important?'}\n",
      "Outputs: {'output': 'LangChain is like a special tool that helps companies use really smart computer programs called LLMs. It can help these companies do amazing things, like making robots that can think for themselves or quickly understand a lot of information. So, LangChain is important because it helps companies do cool and useful things with technology!'}\n",
      "Trace ID: 79119a7c-4215-43fc-a747-d56a3e7d5c21\n",
      "Error: None\n",
      "------\n",
      "Run ID: 79119a7c-4215-43fc-a747-d56a3e7d5c21\n",
      "Run Name: Target\n",
      "Run Type: chain\n",
      "Inputs: {'inputs': {'question': 'Why is LangChain important?'}}\n",
      "Outputs: {'output': 'LangChain is like a special tool that helps companies use really smart computer programs called LLMs. It can help these companies do amazing things, like making robots that can think for themselves or quickly understand a lot of information. So, LangChain is important because it helps companies do cool and useful things with technology!'}\n",
      "Trace ID: 79119a7c-4215-43fc-a747-d56a3e7d5c21\n",
      "Error: None\n",
      "------\n"
     ]
    }
   ],
   "source": [
    "from langsmith import Client\n",
    "\n",
    "client = Client()\n",
    "\n",
    "# List all projects (experiments)\n",
    "projects = client.list_projects()\n",
    "\n",
    "# Get the most recent project (the experiment we just ran)\n",
    "project_name = next(projects).name\n",
    "\n",
    "# List all runs (traces) associated with this project/experiment\n",
    "runs = client.list_runs(project_name=project_name)\n",
    "\n",
    "# Iterate over runs and access their details\n",
    "for run in runs:\n",
    "    print(f\"Run ID: {run.id}\")\n",
    "    print(f\"Run Name: {run.name}\")\n",
    "    print(f\"Run Type: {run.run_type}\")\n",
    "    print(f\"Inputs: {run.inputs}\")\n",
    "    print(f\"Outputs: {run.outputs}\")\n",
    "    print(f\"Trace ID: {run.trace_id}\")\n",
    "    print(f\"Error: {run.error}\")\n",
    "    print(\"------\")"
   ]
  }
 ],
 "metadata": {
  "kernelspec": {
   "display_name": "Python 3 (ipykernel)",
   "language": "python",
   "name": "python3"
  },
  "language_info": {
   "codemirror_mode": {
    "name": "ipython",
    "version": 3
   },
   "file_extension": ".py",
   "mimetype": "text/x-python",
   "name": "python",
   "nbconvert_exporter": "python",
   "pygments_lexer": "ipython3",
   "version": "3.13.4"
  }
 },
 "nbformat": 4,
 "nbformat_minor": 4
}
